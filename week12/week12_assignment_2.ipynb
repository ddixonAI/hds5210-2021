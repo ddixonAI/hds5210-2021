{
 "cells": [
  {
   "cell_type": "markdown",
   "metadata": {
    "nbgrader": {
     "grade": false,
     "grade_id": "cell-fc1c39d0d6f8b82a",
     "locked": true,
     "schema_version": 1,
     "solution": false
    }
   },
   "source": [
    "# Week 12 Programming Assignment\n",
    "\n",
    "As you're working on identifying data for your final project, it's helpful to spend some time exploring your various data files.  For this week's assignment, I'd like you to take a few of the ideas from the the lectures, review assignment, and tonight's lecture to start exploring the data you plan to use for the final project.\n",
    "\n",
    "For the following activities, you can use just one of the data files that you've identified, or you can do the activities using different data files.  That's up to you.  Please describe what you're doing in a Markdown cell or in the comments of your code.  When you've completed the assignment, submit it as normal."
   ]
  },
  {
   "cell_type": "markdown",
   "metadata": {},
   "source": [
    "### 1. Basic Statistics\n",
    "\n",
    "Use Python to read in your data file and show many rows and columns your data has."
   ]
  },
  {
   "cell_type": "code",
   "execution_count": 1,
   "metadata": {},
   "outputs": [],
   "source": [
    "import pandas as pd"
   ]
  },
  {
   "cell_type": "code",
   "execution_count": 2,
   "metadata": {},
   "outputs": [
    {
     "data": {
      "text/plain": [
       "(68348, 20)"
      ]
     },
     "execution_count": 2,
     "metadata": {},
     "output_type": "execute_result"
    }
   ],
   "source": [
    "# file location\n",
    "file = \"Unplanned_Hospital_Visits-Hospital.csv\"\n",
    "\n",
    "# Using pandas to read the .csv file into a dataframe\n",
    "unplanned = pd.read_csv(file)\n",
    "\n",
    "# looking at the dataframe's dimensions\n",
    "unplanned.shape"
   ]
  },
  {
   "cell_type": "code",
   "execution_count": 3,
   "metadata": {},
   "outputs": [
    {
     "data": {
      "text/html": [
       "<div>\n",
       "<style scoped>\n",
       "    .dataframe tbody tr th:only-of-type {\n",
       "        vertical-align: middle;\n",
       "    }\n",
       "\n",
       "    .dataframe tbody tr th {\n",
       "        vertical-align: top;\n",
       "    }\n",
       "\n",
       "    .dataframe thead th {\n",
       "        text-align: right;\n",
       "    }\n",
       "</style>\n",
       "<table border=\"1\" class=\"dataframe\">\n",
       "  <thead>\n",
       "    <tr style=\"text-align: right;\">\n",
       "      <th></th>\n",
       "      <th>Facility ID</th>\n",
       "      <th>Facility Name</th>\n",
       "      <th>Address</th>\n",
       "      <th>City</th>\n",
       "      <th>State</th>\n",
       "      <th>ZIP Code</th>\n",
       "      <th>County Name</th>\n",
       "      <th>Phone Number</th>\n",
       "      <th>Measure ID</th>\n",
       "      <th>Measure Name</th>\n",
       "      <th>Compared to National</th>\n",
       "      <th>Denominator</th>\n",
       "      <th>Score</th>\n",
       "      <th>Lower Estimate</th>\n",
       "      <th>Higher Estimate</th>\n",
       "      <th>Number of Patients</th>\n",
       "      <th>Number of Patients Returned</th>\n",
       "      <th>Footnote</th>\n",
       "      <th>Start Date</th>\n",
       "      <th>End Date</th>\n",
       "    </tr>\n",
       "  </thead>\n",
       "  <tbody>\n",
       "    <tr>\n",
       "      <th>0</th>\n",
       "      <td>010001</td>\n",
       "      <td>SOUTHEAST ALABAMA MEDICAL CENTER</td>\n",
       "      <td>1108 ROSS CLARK CIRCLE</td>\n",
       "      <td>DOTHAN</td>\n",
       "      <td>AL</td>\n",
       "      <td>36301</td>\n",
       "      <td>HOUSTON</td>\n",
       "      <td>(334) 793-8701</td>\n",
       "      <td>EDAC_30_AMI</td>\n",
       "      <td>Hospital return days for heart attack patients</td>\n",
       "      <td>Average Days per 100 Discharges</td>\n",
       "      <td>620</td>\n",
       "      <td>7</td>\n",
       "      <td>-5.4</td>\n",
       "      <td>21.7</td>\n",
       "      <td>589</td>\n",
       "      <td>171</td>\n",
       "      <td>NaN</td>\n",
       "      <td>07/01/2016</td>\n",
       "      <td>06/30/2019</td>\n",
       "    </tr>\n",
       "    <tr>\n",
       "      <th>1</th>\n",
       "      <td>010001</td>\n",
       "      <td>SOUTHEAST ALABAMA MEDICAL CENTER</td>\n",
       "      <td>1108 ROSS CLARK CIRCLE</td>\n",
       "      <td>DOTHAN</td>\n",
       "      <td>AL</td>\n",
       "      <td>36301</td>\n",
       "      <td>HOUSTON</td>\n",
       "      <td>(334) 793-8701</td>\n",
       "      <td>EDAC_30_HF</td>\n",
       "      <td>Hospital return days for heart failure patients</td>\n",
       "      <td>More Days Than Average per 100 Discharges</td>\n",
       "      <td>1106</td>\n",
       "      <td>21.6</td>\n",
       "      <td>7.8</td>\n",
       "      <td>36.3</td>\n",
       "      <td>842</td>\n",
       "      <td>310</td>\n",
       "      <td>NaN</td>\n",
       "      <td>07/01/2016</td>\n",
       "      <td>06/30/2019</td>\n",
       "    </tr>\n",
       "    <tr>\n",
       "      <th>2</th>\n",
       "      <td>010001</td>\n",
       "      <td>SOUTHEAST ALABAMA MEDICAL CENTER</td>\n",
       "      <td>1108 ROSS CLARK CIRCLE</td>\n",
       "      <td>DOTHAN</td>\n",
       "      <td>AL</td>\n",
       "      <td>36301</td>\n",
       "      <td>HOUSTON</td>\n",
       "      <td>(334) 793-8701</td>\n",
       "      <td>EDAC_30_PN</td>\n",
       "      <td>Hospital return days for pneumonia patients</td>\n",
       "      <td>Fewer Days Than Average per 100 Discharges</td>\n",
       "      <td>594</td>\n",
       "      <td>-20.6</td>\n",
       "      <td>-32.9</td>\n",
       "      <td>-7.8</td>\n",
       "      <td>540</td>\n",
       "      <td>132</td>\n",
       "      <td>NaN</td>\n",
       "      <td>07/01/2016</td>\n",
       "      <td>06/30/2019</td>\n",
       "    </tr>\n",
       "    <tr>\n",
       "      <th>3</th>\n",
       "      <td>010001</td>\n",
       "      <td>SOUTHEAST ALABAMA MEDICAL CENTER</td>\n",
       "      <td>1108 ROSS CLARK CIRCLE</td>\n",
       "      <td>DOTHAN</td>\n",
       "      <td>AL</td>\n",
       "      <td>36301</td>\n",
       "      <td>HOUSTON</td>\n",
       "      <td>(334) 793-8701</td>\n",
       "      <td>OP_32</td>\n",
       "      <td>Rate of unplanned hospital visits after colono...</td>\n",
       "      <td>No Different Than the National Rate</td>\n",
       "      <td>511</td>\n",
       "      <td>14.1</td>\n",
       "      <td>10.4</td>\n",
       "      <td>19.2</td>\n",
       "      <td>Not Applicable</td>\n",
       "      <td>Not Applicable</td>\n",
       "      <td>NaN</td>\n",
       "      <td>01/01/2017</td>\n",
       "      <td>12/24/2019</td>\n",
       "    </tr>\n",
       "    <tr>\n",
       "      <th>4</th>\n",
       "      <td>010001</td>\n",
       "      <td>SOUTHEAST ALABAMA MEDICAL CENTER</td>\n",
       "      <td>1108 ROSS CLARK CIRCLE</td>\n",
       "      <td>DOTHAN</td>\n",
       "      <td>AL</td>\n",
       "      <td>36301</td>\n",
       "      <td>HOUSTON</td>\n",
       "      <td>(334) 793-8701</td>\n",
       "      <td>OP_35_ADM</td>\n",
       "      <td>Rate of inpatient admissions for patients rece...</td>\n",
       "      <td>No Different Than the National Rate</td>\n",
       "      <td>192</td>\n",
       "      <td>11.3</td>\n",
       "      <td>8.8</td>\n",
       "      <td>14.2</td>\n",
       "      <td>Not Applicable</td>\n",
       "      <td>Not Applicable</td>\n",
       "      <td>NaN</td>\n",
       "      <td>01/01/2019</td>\n",
       "      <td>12/01/2019</td>\n",
       "    </tr>\n",
       "  </tbody>\n",
       "</table>\n",
       "</div>"
      ],
      "text/plain": [
       "  Facility ID                     Facility Name                 Address  \\\n",
       "0      010001  SOUTHEAST ALABAMA MEDICAL CENTER  1108 ROSS CLARK CIRCLE   \n",
       "1      010001  SOUTHEAST ALABAMA MEDICAL CENTER  1108 ROSS CLARK CIRCLE   \n",
       "2      010001  SOUTHEAST ALABAMA MEDICAL CENTER  1108 ROSS CLARK CIRCLE   \n",
       "3      010001  SOUTHEAST ALABAMA MEDICAL CENTER  1108 ROSS CLARK CIRCLE   \n",
       "4      010001  SOUTHEAST ALABAMA MEDICAL CENTER  1108 ROSS CLARK CIRCLE   \n",
       "\n",
       "     City State  ZIP Code County Name    Phone Number   Measure ID  \\\n",
       "0  DOTHAN    AL     36301     HOUSTON  (334) 793-8701  EDAC_30_AMI   \n",
       "1  DOTHAN    AL     36301     HOUSTON  (334) 793-8701   EDAC_30_HF   \n",
       "2  DOTHAN    AL     36301     HOUSTON  (334) 793-8701   EDAC_30_PN   \n",
       "3  DOTHAN    AL     36301     HOUSTON  (334) 793-8701        OP_32   \n",
       "4  DOTHAN    AL     36301     HOUSTON  (334) 793-8701    OP_35_ADM   \n",
       "\n",
       "                                        Measure Name  \\\n",
       "0     Hospital return days for heart attack patients   \n",
       "1    Hospital return days for heart failure patients   \n",
       "2        Hospital return days for pneumonia patients   \n",
       "3  Rate of unplanned hospital visits after colono...   \n",
       "4  Rate of inpatient admissions for patients rece...   \n",
       "\n",
       "                         Compared to National Denominator  Score  \\\n",
       "0             Average Days per 100 Discharges         620      7   \n",
       "1   More Days Than Average per 100 Discharges        1106   21.6   \n",
       "2  Fewer Days Than Average per 100 Discharges         594  -20.6   \n",
       "3         No Different Than the National Rate         511   14.1   \n",
       "4         No Different Than the National Rate         192   11.3   \n",
       "\n",
       "  Lower Estimate Higher Estimate Number of Patients  \\\n",
       "0           -5.4            21.7                589   \n",
       "1            7.8            36.3                842   \n",
       "2          -32.9            -7.8                540   \n",
       "3           10.4            19.2     Not Applicable   \n",
       "4            8.8            14.2     Not Applicable   \n",
       "\n",
       "  Number of Patients Returned  Footnote  Start Date    End Date  \n",
       "0                         171       NaN  07/01/2016  06/30/2019  \n",
       "1                         310       NaN  07/01/2016  06/30/2019  \n",
       "2                         132       NaN  07/01/2016  06/30/2019  \n",
       "3              Not Applicable       NaN  01/01/2017  12/24/2019  \n",
       "4              Not Applicable       NaN  01/01/2019  12/01/2019  "
      ]
     },
     "execution_count": 3,
     "metadata": {},
     "output_type": "execute_result"
    }
   ],
   "source": [
    "# Peaking at the data just for our info\n",
    "unplanned.head()"
   ]
  },
  {
   "cell_type": "markdown",
   "metadata": {},
   "source": [
    "### 2. Data Diversity\n",
    "\n",
    "Use Python to identify how many unique values each column in your data has.  Use Python to identify which column has the greatest number of distinct values (aka the most diversity)?"
   ]
  },
  {
   "cell_type": "code",
   "execution_count": 4,
   "metadata": {},
   "outputs": [
    {
     "data": {
      "text/html": [
       "<div>\n",
       "<style scoped>\n",
       "    .dataframe tbody tr th:only-of-type {\n",
       "        vertical-align: middle;\n",
       "    }\n",
       "\n",
       "    .dataframe tbody tr th {\n",
       "        vertical-align: top;\n",
       "    }\n",
       "\n",
       "    .dataframe thead th {\n",
       "        text-align: right;\n",
       "    }\n",
       "</style>\n",
       "<table border=\"1\" class=\"dataframe\">\n",
       "  <thead>\n",
       "    <tr style=\"text-align: right;\">\n",
       "      <th></th>\n",
       "      <th>field</th>\n",
       "      <th>unique_values</th>\n",
       "    </tr>\n",
       "  </thead>\n",
       "  <tbody>\n",
       "    <tr>\n",
       "      <th>0</th>\n",
       "      <td>Facility ID</td>\n",
       "      <td>4882</td>\n",
       "    </tr>\n",
       "    <tr>\n",
       "      <th>7</th>\n",
       "      <td>Phone Number</td>\n",
       "      <td>4863</td>\n",
       "    </tr>\n",
       "    <tr>\n",
       "      <th>2</th>\n",
       "      <td>Address</td>\n",
       "      <td>4855</td>\n",
       "    </tr>\n",
       "    <tr>\n",
       "      <th>1</th>\n",
       "      <td>Facility Name</td>\n",
       "      <td>4727</td>\n",
       "    </tr>\n",
       "    <tr>\n",
       "      <th>5</th>\n",
       "      <td>ZIP Code</td>\n",
       "      <td>4455</td>\n",
       "    </tr>\n",
       "    <tr>\n",
       "      <th>11</th>\n",
       "      <td>Denominator</td>\n",
       "      <td>3070</td>\n",
       "    </tr>\n",
       "    <tr>\n",
       "      <th>3</th>\n",
       "      <td>City</td>\n",
       "      <td>2958</td>\n",
       "    </tr>\n",
       "    <tr>\n",
       "      <th>6</th>\n",
       "      <td>County Name</td>\n",
       "      <td>1558</td>\n",
       "    </tr>\n",
       "    <tr>\n",
       "      <th>14</th>\n",
       "      <td>Higher Estimate</td>\n",
       "      <td>1427</td>\n",
       "    </tr>\n",
       "    <tr>\n",
       "      <th>12</th>\n",
       "      <td>Score</td>\n",
       "      <td>1243</td>\n",
       "    </tr>\n",
       "    <tr>\n",
       "      <th>13</th>\n",
       "      <td>Lower Estimate</td>\n",
       "      <td>1178</td>\n",
       "    </tr>\n",
       "    <tr>\n",
       "      <th>15</th>\n",
       "      <td>Number of Patients</td>\n",
       "      <td>1129</td>\n",
       "    </tr>\n",
       "    <tr>\n",
       "      <th>16</th>\n",
       "      <td>Number of Patients Returned</td>\n",
       "      <td>459</td>\n",
       "    </tr>\n",
       "    <tr>\n",
       "      <th>4</th>\n",
       "      <td>State</td>\n",
       "      <td>56</td>\n",
       "    </tr>\n",
       "    <tr>\n",
       "      <th>8</th>\n",
       "      <td>Measure ID</td>\n",
       "      <td>14</td>\n",
       "    </tr>\n",
       "    <tr>\n",
       "      <th>9</th>\n",
       "      <td>Measure Name</td>\n",
       "      <td>14</td>\n",
       "    </tr>\n",
       "    <tr>\n",
       "      <th>10</th>\n",
       "      <td>Compared to National</td>\n",
       "      <td>12</td>\n",
       "    </tr>\n",
       "    <tr>\n",
       "      <th>17</th>\n",
       "      <td>Footnote</td>\n",
       "      <td>4</td>\n",
       "    </tr>\n",
       "    <tr>\n",
       "      <th>18</th>\n",
       "      <td>Start Date</td>\n",
       "      <td>4</td>\n",
       "    </tr>\n",
       "    <tr>\n",
       "      <th>19</th>\n",
       "      <td>End Date</td>\n",
       "      <td>3</td>\n",
       "    </tr>\n",
       "  </tbody>\n",
       "</table>\n",
       "</div>"
      ],
      "text/plain": [
       "                          field  unique_values\n",
       "0                   Facility ID           4882\n",
       "7                  Phone Number           4863\n",
       "2                       Address           4855\n",
       "1                 Facility Name           4727\n",
       "5                      ZIP Code           4455\n",
       "11                  Denominator           3070\n",
       "3                          City           2958\n",
       "6                   County Name           1558\n",
       "14              Higher Estimate           1427\n",
       "12                        Score           1243\n",
       "13               Lower Estimate           1178\n",
       "15           Number of Patients           1129\n",
       "16  Number of Patients Returned            459\n",
       "4                         State             56\n",
       "8                    Measure ID             14\n",
       "9                  Measure Name             14\n",
       "10         Compared to National             12\n",
       "17                     Footnote              4\n",
       "18                   Start Date              4\n",
       "19                     End Date              3"
      ]
     },
     "execution_count": 4,
     "metadata": {},
     "output_type": "execute_result"
    }
   ],
   "source": [
    "# Checking how many unqiue values are contained in each field\n",
    "\n",
    "# Creating a new dataframe containing the fields and their unique value counts\n",
    "unique_counts_df = unplanned.nunique().reset_index()\n",
    "\n",
    "# Renaming columns\n",
    "unique_counts_df.columns = [\"field\", \"unique_values\"]\n",
    "\n",
    "# Sorting by unique values and printing\n",
    "unique_counts_df.sort_values(\"unique_values\", ascending = False)"
   ]
  },
  {
   "cell_type": "code",
   "execution_count": 5,
   "metadata": {},
   "outputs": [
    {
     "data": {
      "text/plain": [
       "'Facility ID'"
      ]
     },
     "execution_count": 5,
     "metadata": {},
     "output_type": "execute_result"
    }
   ],
   "source": [
    "# Which field has the most unique values? It's obvious from the dataframe but to do it programmatically I can do this:\n",
    "unique_counts_df.sort_values(\"unique_values\", ascending = False)[\"field\"][0]"
   ]
  },
  {
   "cell_type": "markdown",
   "metadata": {},
   "source": [
    "### 3. Data Redundancy\n",
    "\n",
    "Use Python to identify any columns in your data where the value for every row is the same.  For example, if you had a gender column and all the rows said 'M', then you would want to write the code that helped you determine that."
   ]
  },
  {
   "cell_type": "code",
   "execution_count": 6,
   "metadata": {},
   "outputs": [],
   "source": [
    "# Well, we can tell from the unique value count exercise that all the columns have more than 1 unique value, so we can deduce that there will be no columns where every row is the same.\n",
    "# Nevertheless, we can programmatically check if there are any columns like this\n",
    "\n",
    "def column_check(df):\n",
    "    \"\"\"\n",
    "    (pandas dataframe) -> list/string\n",
    "    \n",
    "    Feed the function a dataframe and this function will tell you which field(s) have only one single value.\n",
    "    \"\"\"\n",
    "    \n",
    "    df_trans = df.nunique().reset_index()\n",
    "    df_trans.columns = [\"field\", \"unique_values\"]\n",
    "    \n",
    "    result = []\n",
    "    \n",
    "    for i in list(df_trans['field']):\n",
    "        if list((df_trans[df_trans['field'] == i]['unique_values'] == 1))[0]:\n",
    "            result = result.append(i)\n",
    "    \n",
    "    if (result == []):\n",
    "        result = 'All columns contain more than 1 unique value!'\n",
    "        \n",
    "    return result"
   ]
  },
  {
   "cell_type": "code",
   "execution_count": 7,
   "metadata": {},
   "outputs": [
    {
     "data": {
      "text/plain": [
       "'All columns contain more than 1 unique value!'"
      ]
     },
     "execution_count": 7,
     "metadata": {},
     "output_type": "execute_result"
    }
   ],
   "source": [
    "column_check(unplanned)"
   ]
  },
  {
   "cell_type": "markdown",
   "metadata": {},
   "source": [
    "### 4. Range of Values\n",
    "\n",
    "Your data almost certainly has some numeric columns that can be summed or averaged.  Create a histogram that shows the distribution of values for this column."
   ]
  },
  {
   "cell_type": "code",
   "execution_count": 8,
   "metadata": {},
   "outputs": [
    {
     "ename": "NameError",
     "evalue": "name 'unplanned_clean' is not defined",
     "output_type": "error",
     "traceback": [
      "\u001b[0;31m---------------------------------------------------------------------------\u001b[0m",
      "\u001b[0;31mNameError\u001b[0m                                 Traceback (most recent call last)",
      "\u001b[0;32m<ipython-input-8-f0e20ea6ad47>\u001b[0m in \u001b[0;36m<module>\u001b[0;34m\u001b[0m\n\u001b[0;32m----> 1\u001b[0;31m \u001b[0munplanned_clean\u001b[0m\u001b[0;34m.\u001b[0m\u001b[0mdtypes\u001b[0m\u001b[0;34m\u001b[0m\u001b[0;34m\u001b[0m\u001b[0m\n\u001b[0m",
      "\u001b[0;31mNameError\u001b[0m: name 'unplanned_clean' is not defined"
     ]
    }
   ],
   "source": [
    "unplanned_clean.dtypes"
   ]
  },
  {
   "cell_type": "code",
   "execution_count": null,
   "metadata": {},
   "outputs": [],
   "source": [
    "# cleaning the data a little bit. I plan to use the score column\n",
    "unplanned_clean = unplanned[unplanned['Score'] != 'Not Available']\n",
    "unplanned_clean['Score'] = unplanned_clean['Score'].astype(float)\n",
    "\n",
    "# Plotting\n",
    "unplanned_clean.Score.plot.hist()"
   ]
  },
  {
   "cell_type": "markdown",
   "metadata": {},
   "source": [
    "### 5. Discussion\n",
    "\n",
    "Do any additional exploration of this data that you think may be interesting and include your code here.  Then go onto Slack and make a post about what you've observed.  Share your observation.  Share your code, if you like.  Share a screenshot of the data or a chart based on the data.\n",
    "\n",
    "Then comment on at least two other people's observations that they share on Slack.  (Use the reply as thread option in Slack to keep the conversation organized.)"
   ]
  },
  {
   "cell_type": "code",
   "execution_count": null,
   "metadata": {},
   "outputs": [],
   "source": [
    "# I want to look at boxplots of score for each state, rotated \n",
    "\n",
    "unplanned_clean.boxplot(column = 'Score',\n",
    "                        by = 'State',\n",
    "                        vert = False,\n",
    "                       figsize = (15,15))"
   ]
  },
  {
   "cell_type": "code",
   "execution_count": null,
   "metadata": {},
   "outputs": [],
   "source": []
  },
  {
   "cell_type": "markdown",
   "metadata": {},
   "source": [
    "---\n",
    "\n",
    "## Submitting Your Work\n",
    "\n",
    "In order to submit your work, you'll need to use the `git` command line program to **add** your homework file (this file) to your local repository, **commit** your changes to your local repository, and then **push** those changes up to github.com.  From there, I'll be able to **pull** the changes down and do my grading.  I'll provide some feedback, **commit** and **push** my comments back to you.  The first line of code below will **pull** down my comments into your local folders.\n",
    "\n",
    "To run through everything one last time and submit your work:\n",
    "1. Use the `Kernel` -> `Restart Kernel and Run All Cells` menu option to run everything from top to bottom and stop here.\n",
    "2. Save this note with Ctrl-S (or Cmd-S)\n",
    "2. Skip down to the last command cell (the one starting with `%%bash`) and run that cell.\n",
    "\n",
    "If anything fails along the way with this submission part of the process, let me know.  I'll help you troubleshoort."
   ]
  },
  {
   "cell_type": "code",
   "execution_count": null,
   "metadata": {},
   "outputs": [],
   "source": [
    "assert False, \"DO NOT REMOVE THIS LINE\""
   ]
  },
  {
   "cell_type": "markdown",
   "metadata": {},
   "source": [
    "---"
   ]
  },
  {
   "cell_type": "code",
   "execution_count": 10,
   "metadata": {},
   "outputs": [
    {
     "name": "stdout",
     "output_type": "stream",
     "text": [
      "Already up to date.\n",
      "On branch main\n",
      "Your branch is up to date with 'origin/main'.\n",
      "\n",
      "Untracked files:\n",
      "\t../final/\n",
      "\t../week02/Untitled.ipynb\n",
      "\t../week03/Untitled.ipynb\n",
      "\t../week04/Untitled.ipynb\n",
      "\t../week09/Untitled.ipynb\n",
      "\t../week09/healthcare-dataset-stroke-data.csv\n",
      "\tUnplanned_Hospital_Visits-Hospital.csv\n",
      "\n",
      "nothing added to commit but untracked files present\n"
     ]
    },
    {
     "name": "stderr",
     "output_type": "stream",
     "text": [
      "Everything up-to-date\n"
     ]
    }
   ],
   "source": [
    "%%bash\n",
    "git pull\n",
    "git add week12_assignment_2.ipynb\n",
    "git commit -a -m \"Submitting the week 12 assignment\"\n",
    "git push"
   ]
  },
  {
   "cell_type": "markdown",
   "metadata": {},
   "source": [
    "\n",
    "---\n",
    "\n",
    "If the message above says something like _Submitting the week 10 review exercises_ or _Everything is up to date_, then your work was submitted correctly."
   ]
  }
 ],
 "metadata": {
  "celltoolbar": "Create Assignment",
  "kernelspec": {
   "display_name": "Python 3",
   "language": "python",
   "name": "python3"
  },
  "language_info": {
   "codemirror_mode": {
    "name": "ipython",
    "version": 3
   },
   "file_extension": ".py",
   "mimetype": "text/x-python",
   "name": "python",
   "nbconvert_exporter": "python",
   "pygments_lexer": "ipython3",
   "version": "3.6.7"
  }
 },
 "nbformat": 4,
 "nbformat_minor": 2
}
